{
  "metadata": {
    "language_info": {
      "codemirror_mode": {
        "name": "python",
        "version": 3
      },
      "file_extension": ".py",
      "mimetype": "text/x-python",
      "name": "python",
      "nbconvert_exporter": "python",
      "pygments_lexer": "ipython3",
      "version": "3.8"
    },
    "kernelspec": {
      "name": "python",
      "display_name": "Python (Pyodide)",
      "language": "python"
    }
  },
  "nbformat_minor": 4,
  "nbformat": 4,
  "cells": [
    {
      "cell_type": "markdown",
      "source": "Maths",
      "metadata": {}
    },
    {
      "cell_type": "markdown",
      "source": "Title",
      "metadata": {}
    },
    {
      "cell_type": "code",
      "source": "print(\"Maths Assignment\")",
      "metadata": {},
      "execution_count": null,
      "outputs": []
    },
    {
      "cell_type": "markdown",
      "source": "Introduction",
      "metadata": {}
    },
    {
      "cell_type": "code",
      "source": "print(\"This is a Maths Assignment\")",
      "metadata": {},
      "execution_count": null,
      "outputs": []
    },
    {
      "cell_type": "markdown",
      "source": "Some data science languages",
      "metadata": {}
    },
    {
      "cell_type": "code",
      "source": "print(\"Python, R, Jupyter, Java, C, C++\")",
      "metadata": {},
      "execution_count": null,
      "outputs": []
    },
    {
      "cell_type": "markdown",
      "source": "Some data science libraries",
      "metadata": {}
    },
    {
      "cell_type": "code",
      "source": "print(\"Pandas, SciPy, Matplotlib, TensorFlow, NumPy\")",
      "metadata": {
        "trusted": true
      },
      "execution_count": 16,
      "outputs": [
        {
          "name": "stdout",
          "text": "Pandas, SciPy, Matplotlib, TensorFlow, NumPy\n",
          "output_type": "stream"
        }
      ]
    },
    {
      "cell_type": "markdown",
      "source": "Table",
      "metadata": {}
    },
    {
      "cell_type": "code",
      "source": "print(\"RapidMiner ,  TensorFlow\")\nprint(\"ApacheSpark,  Tableau\")\nprint(\"ApacheHadoop, KNIME\")",
      "metadata": {
        "trusted": true
      },
      "execution_count": 21,
      "outputs": [
        {
          "name": "stdout",
          "text": "RapidMiner ,  TensorFlow\nApacheSpark,  Tableau\nApacheHadoop, KNIME\n",
          "output_type": "stream"
        }
      ]
    },
    {
      "cell_type": "markdown",
      "source": "Some Arithmetic Expression",
      "metadata": {}
    },
    {
      "cell_type": "code",
      "source": "2+2",
      "metadata": {},
      "execution_count": null,
      "outputs": []
    },
    {
      "cell_type": "code",
      "source": "(10+10)*2",
      "metadata": {},
      "execution_count": null,
      "outputs": []
    },
    {
      "cell_type": "code",
      "source": "total_minutes = 120\nhours = total_minutes // 60 \nminutes = total_minutes % 60\ntime = \"{}:{}\".format(hours, minutes)\nprint(time)",
      "metadata": {
        "trusted": true
      },
      "execution_count": 24,
      "outputs": [
        {
          "name": "stdout",
          "text": "2:0\n",
          "output_type": "stream"
        }
      ]
    },
    {
      "cell_type": "markdown",
      "source": "Objective\nTo use difficult expressions in real life.",
      "metadata": {}
    },
    {
      "cell_type": "markdown",
      "source": "Author - Kshitij B",
      "metadata": {}
    },
    {
      "cell_type": "code",
      "source": "",
      "metadata": {},
      "execution_count": null,
      "outputs": []
    },
    {
      "cell_type": "code",
      "source": "",
      "metadata": {},
      "execution_count": null,
      "outputs": []
    }
  ]
}